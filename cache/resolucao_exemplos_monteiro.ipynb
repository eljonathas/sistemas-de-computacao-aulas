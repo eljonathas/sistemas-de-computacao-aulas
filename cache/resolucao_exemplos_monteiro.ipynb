{
 "cells": [
  {
   "cell_type": "markdown",
   "metadata": {},
   "source": [
    "## Resolução dos exemplos sobre memória cache\n",
    "\n",
    "### Jonathas dos Santos Andrade"
   ]
  },
  {
   "cell_type": "markdown",
   "metadata": {},
   "source": [
    "#### Exemplo 5.1\n",
    "Um determinado sistema de computação possui uma memória cache, MP e processador. Em operações normais, obtêm-se 96 acertos a cada 100 acessos do processador às memórias. Qual deve ser a eficiência do sistema cache/MP?"
   ]
  },
  {
   "cell_type": "code",
   "execution_count": 1,
   "metadata": {},
   "outputs": [
    {
     "name": "stdout",
     "output_type": "stream",
     "text": [
      "Taxa de eficiência: 96.0%\n"
     ]
    }
   ],
   "source": [
    "def percentual(amostra, total):\n",
    "    return amostra / total\n",
    "\n",
    "print(f'Taxa de eficiência: {percentual(96, 100) * 100}%')"
   ]
  },
  {
   "cell_type": "markdown",
   "metadata": {},
   "source": [
    "#### Exemplo 5.2\n",
    "Considere um sistema de computação com uma memória cache de 32KB de capacidade, constituída de linhas com 8 bytes de largura. A MP possui uma capacidade de 16MB.\n",
    "\n",
    "**Solução:** Cria-se uma função para realizar os cálculos necessários para encontrar quantidade de bits dessa memória cache."
   ]
  },
  {
   "cell_type": "code",
   "execution_count": 21,
   "metadata": {},
   "outputs": [
    {
     "name": "stdout",
     "output_type": "stream",
     "text": [
      "Quantidade de bits: 299008 -> 292.0KB\n"
     ]
    }
   ],
   "source": [
    "# T = N . E\n",
    "def base2Redutor(valor, unidade):\n",
    "    convert = 0\n",
    "    if unidade.lower() == 'k':\n",
    "        convert = valor * 1024\n",
    "    if unidade.lower() == 'b':\n",
    "        convert = valor\n",
    "    if unidade.lower() == 'm':\n",
    "        convert = valor * 1024**2\n",
    "    if unidade.lower() == 'kb':\n",
    "        convert = valor * 2 ** 10\n",
    "    if unidade.lower() == 'mb':\n",
    "        convert = valor * 2 ** 20\n",
    "        \n",
    "    for i in range(0, 255):\n",
    "            if 2 ** i >= convert: return i\n",
    "\n",
    "def calcBits(q, b, c):\n",
    "    # q = Quantidade de células\n",
    "    # b = Tamanho de cada célula\n",
    "    # c = Capacidade da MP\n",
    "    totalBitsDados = q * b * 1024 # total de bits para a parte de dados\n",
    "    qntLinhas = base2Redutor(q / b, \"kb\") # quantidade de linhas\n",
    "    qntBlocos = base2Redutor(c / b, \"mb\") # quantidade de blocos\n",
    "    qntBlocosLinhas = qntBlocos - qntLinhas #largura do campo tag\n",
    "    totalBitsTags = 2 ** qntLinhas * qntBlocosLinhas # total de bits dos tags\n",
    "    totalBits = totalBitsDados + totalBitsTags # total de bits\n",
    "    \n",
    "    return totalBits\n",
    "\n",
    "    \n",
    "print(f'Quantidade de bits: {calcBits(32, 8, 16)} -> {calcBits(32, 8, 16) / 1024}KB')"
   ]
  },
  {
   "cell_type": "markdown",
   "metadata": {},
   "source": [
    "#### Exemplo 5.3\n",
    "Cálculo do formato de endereço para as memórias cache com mapeamento direto.\n",
    "\n",
    "Considere uma MP com 64MB de capacidade associada a uma memória cache que possui 2K linhas, cada uma com largura de 16 bytes. Determine o formato do endereço para ser interpretado pelo sistema de controle de cache.\n",
    "\n",
    "**Solução:** Utilizando os mesmos conceitos dos códigos aplicados no exemplo anterior, faz-se a resolução deste exercício da seguinte forma:"
   ]
  },
  {
   "cell_type": "code",
   "execution_count": 5,
   "metadata": {},
   "outputs": [
    {
     "name": "stdout",
     "output_type": "stream",
     "text": [
      "Byte: 4 bits\n",
      "Linha: 11 bits\n",
      "Tag: 11 bits\n"
     ]
    }
   ],
   "source": [
    "# a mesma função base2Redutor será utilizada\n",
    "\n",
    "def calcEndereco(c, li, l):\n",
    "    # c = capacidade da mp\n",
    "    # li = quantidade de linhas\n",
    "    # l = largura de bloco\n",
    "    capExp = base2Redutor(c, 'mb')\n",
    "    linhaExp = base2Redutor(li, 'k')\n",
    "    largBlocoExp = base2Redutor(l, 'b')\n",
    "    totalBitsDados = base2Redutor(c / l, 'mb')\n",
    "    return [f'Byte: {largBlocoExp}', f'Linha: {int(totalBitsDados / 2)}', f'Tag: {int(totalBitsDados / 2)}']\n",
    "\n",
    "valores = calcEndereco(64, 2, 16)\n",
    "\n",
    "for i in range(len(valores)):\n",
    "    print(valores[i]+' bits')\n",
    "    "
   ]
  },
  {
   "cell_type": "markdown",
   "metadata": {},
   "source": [
    "#### Exemplo 5.4\n",
    "Seja uma MP constituída de blocos com largura de 32 bytes, associada a uma cache com 128KB. Em dado instante o processador realiza um acesso, colocando o seguinte endereço (expresso em algarismos hexadecimais): 3FC92B6. Determine qual deverá ser o valor binário da linha que será localizada pelo sistema de controle da cache. \n",
    "\n",
    "**Solução:** O script responsável pela resolução deste exemplo possui a funcionalidade de conversão do valor hexadecimal par ao valor binário, conforme mostrado a seguir:"
   ]
  },
  {
   "cell_type": "code",
   "execution_count": 6,
   "metadata": {},
   "outputs": [
    {
     "name": "stdout",
     "output_type": "stream",
     "text": [
      "Endereço da linha desejada: 010010010101\n"
     ]
    }
   ],
   "source": [
    "  \n",
    "def decimalBinario(value):\n",
    "    number = int(value)\n",
    "    string = ''\n",
    "\n",
    "    while number > 0:\n",
    "        rest = int(number % 2)\n",
    "        string += str(rest)\n",
    "        number = (number - rest) / 2\n",
    "\n",
    "    return string[::-1]\n",
    "\n",
    "def tamHexToBin(v):\n",
    "    # v = valor\n",
    "    return len(v) * 4\n",
    "\n",
    "def enderecoLinhaBits(lb, c, h):\n",
    "    #lb = largura do bloco\n",
    "    #c = capacidade da memoria\n",
    "    #h = endereco em hexadecimal\n",
    "    tamEnderecoHex = tamHexToBin(h) # tamanho do endereço em binário\n",
    "    tamCampoByte = base2Redutor(lb, 'b') # tamanho do campo byte\n",
    "    tamCampoLinha = base2Redutor(c / lb, 'kb') # tamanho do campo linha\n",
    "    tamCampoTag = tamEnderecoHex - (tamCampoByte + tamCampoLinha) # tamanho do campo tag\n",
    "    enderecoBinario = decimalBinario(int(h, 16)) # endereco hexadecimal convertido pra binário\n",
    "    \n",
    "    # faz a correção dos zeros faltantes\n",
    "    if len(enderecoBinario) < tamEnderecoHex:\n",
    "        while len(enderecoBinario) < tamEnderecoHex:\n",
    "            tempValor = enderecoBinario[::-1]\n",
    "            tempValor += '0'\n",
    "            enderecoBinario = tempValor[::-1]\n",
    "    \n",
    "    return enderecoBinario[tamCampoTag:(tamCampoTag+tamCampoLinha)]\n",
    "    \n",
    "print(f'Endereço da linha desejada: {enderecoLinhaBits(32, 128, \"3FC92B6\")}')"
   ]
  },
  {
   "cell_type": "markdown",
   "metadata": {},
   "source": [
    "#### Exemplo 5.5\n",
    "Cálculo da quantidade de bits necessários para uma determinada memória cache. \n",
    "Considere um sistema de computação com uma memória cache de 32KB de capacidade, constituída de linhas com 8 bytes de largura. A MP possui uma capacidade de 16MB. \n",
    "\n",
    "**Solução:** Com o reaproveitamento das funções criadas nos exemplos anteriores, este exercício é resolvido da seguinte forma:"
   ]
  },
  {
   "cell_type": "code",
   "execution_count": null,
   "metadata": {},
   "outputs": [],
   "source": [
    "def quantidadeBits(cmp, ll, cc):\n",
    "    # cmp = Capacidade da MP\n",
    "    # ll = Largura da linha\n",
    "    # cc = Capacidade da cache\n",
    "    totalBitsDados = cc * ll * 1024\n",
    "    larguraLinhas = base2Redutor(cc / ll, 'kb')\n",
    "    larguraBlocos = base2Redutor(cmp / ll, 'mb')\n",
    "    totalBitsBlocos = 2 ** larguraLinhas * larguraBlocos\n",
    "    totalBits = totalBitsDados + totalBitsBlocos\n",
    "    return totalBits\n",
    "\n",
    "print(f'Quantidade de bits necessários: {quantidadeBits(16, 8, 32)} => {quantidadeBits(16, 8, 32) / 1024}KB')    "
   ]
  },
  {
   "cell_type": "markdown",
   "metadata": {},
   "source": [
    "#### Exemplo 5.6\n",
    "Cálculo de formato de endereço para memórias cache com mapeamento associativo completo. \n",
    "\n",
    "Considere uma MP com 64MB de capacidade associada a uma memória cache que possui 2K linhas, cada uma com largura de 16 bytes. Determine o formato do endereço para ser interpretado pelo sistema de controle da cache. \n",
    "\n",
    "**Solução:** Para a resolução desta questão, será utilizada a função que reduz o valor informado para a base dois, de acordo com o bloco seguinte:"
   ]
  },
  {
   "cell_type": "code",
   "execution_count": 95,
   "metadata": {},
   "outputs": [
    {
     "name": "stdout",
     "output_type": "stream",
     "text": [
      "Byte: 4 bits\n",
      "Bloco: 22 bits\n"
     ]
    }
   ],
   "source": [
    "def memoMap(cmp, ql, ll):\n",
    "    # cmp = Capacidade da MP\n",
    "    # ll = Largura da linha\n",
    "    # ql = Quantidade de linhas\n",
    "    tamEndereco = base2Redutor(cmp, 'mb')\n",
    "    tamEndLinha = base2Redutor(ql, 'k')\n",
    "    larguraBloco = base2Redutor(ll, 'b')\n",
    "    tamEndBloco = tamEndereco - larguraBloco\n",
    "    return [tamEndereco - tamEndBloco, tamEndBloco]\n",
    "\n",
    "vetor = memoMap(64, 2, 16)\n",
    "print(f'Byte: {vetor[0]} bits')\n",
    "print(f'Bloco: {vetor[1]} bits')"
   ]
  },
  {
   "cell_type": "markdown",
   "metadata": {},
   "source": [
    "#### Exemplo 5.7 \n",
    "Seja uma MP constituída de blocos com largura de 32 bytes, associada a uma cache com 64KB. Em dado instante o processador realiza um acesso, colocando o seguinte endereço (expresso em algarismos hexadecimais): 3FC92B6. Determine qual deverá ser o valor binário do campo bloco que será localizado pelo sistema de controle da cache. \n",
    "\n",
    "**Solução:** Com a utilização da função de conversão do valor em decimal, obtido através da conversão do valor em hexadecimal, para binário, e a função criada no exemplo anterior, é possível resolver este exemplo desta forma:"
   ]
  },
  {
   "cell_type": "code",
   "execution_count": 8,
   "metadata": {},
   "outputs": [
    {
     "name": "stdout",
     "output_type": "stream",
     "text": [
      "Endereço do campo bloco: 00111111110010010010101\n"
     ]
    }
   ],
   "source": [
    "def endBloco(lb, cc, h):\n",
    "    # lb = largura do bloco\n",
    "    # cc = capacidade da cache\n",
    "    # h = endereco em hexadecimal\n",
    "    tamEnderecoBin = tamHexToBin(h)\n",
    "    tamCampoByte = base2Redutor(lb, 'b')\n",
    "    tamCampoBloco = tamEnderecoBin - tamCampoByte\n",
    "    enderecoBinario = decimalBinario(int(h, 16))\n",
    "    \n",
    "    # faz a correção dos zeros faltantes\n",
    "    if len(enderecoBinario) < tamEnderecoBin:\n",
    "        while len(enderecoBinario) < tamEnderecoBin:\n",
    "            tempValor = enderecoBinario[::-1]\n",
    "            tempValor += '0'\n",
    "            enderecoBinario = tempValor[::-1]\n",
    "    \n",
    "    return enderecoBinario[:tamCampoBloco]\n",
    "\n",
    "print(f'Endereço do campo bloco: {endBloco(32, 64, \"3FC92B6\")}')"
   ]
  },
  {
   "cell_type": "markdown",
   "metadata": {},
   "source": [
    "#### Exemplo 5.8\n",
    "Cálculo da quantidade de bits necessários para urna determinada memória cache, que funciona com mapeamento por conjunto de quatro. \n",
    "\n",
    "Considere um sistema de computação com uma memória cache de 32KB de capacidade, constituída de linhas com 8 bytes de largura e conjunto de 4. A MP possui uma capacidade de 16MB. \n"
   ]
  },
  {
   "cell_type": "code",
   "execution_count": 16,
   "metadata": {},
   "outputs": [
    {
     "name": "stdout",
     "output_type": "stream",
     "text": [
      "Quantidade de bits necessários: 270336 => 264 Kbits\n"
     ]
    }
   ],
   "source": [
    "def qntBitsTotal(cc, ll, conj, cmp):\n",
    "    totalBitsDados = cc * ll * 1024\n",
    "    tamEndLinhas = base2Redutor(cc / ll, 'kb')\n",
    "    tamEndConjuntos = base2Redutor((cc / ll) / conj, 'k')\n",
    "    tamEndBlocos = base2Redutor(cmp / ll, 'mb')\n",
    "    tamCampoTag = tamEndBlocos - tamEndConjuntos\n",
    "    totalBitsTags = (2 ** tamEndLinhas / 1024) * (2 ** tamCampoTag / 1024) * 1024\n",
    "    totalBits = totalBitsDados + totalBitsTags\n",
    "    \n",
    "    return int(totalBits)\n",
    "    \n",
    "print(f'Quantidade de bits necessários: {qntBitsTotal(32, 8, 4, 16)} => {int(qntBitsTotal(32, 8, 4, 16) / 1024)} Kbits')"
   ]
  },
  {
   "cell_type": "markdown",
   "metadata": {},
   "source": [
    "#### Exemplo 5.9\n",
    "Cálculo de formato de endereço para memórias cache com mapeamento associativo por conjunto. \n",
    "\n",
    "Considere uma MP com 64MB de capacidade associada a uma memória cache que funciona com mapeamento associativo por conjunto de 4 e que possui ~32KB~ (128KB corrigido), com linhas de largura de 16 bytes. Determine o formato do endereço para ser interpretado pelo sistema de controle da cache\n",
    "\n",
    "**Solução:** Com os mesmos conceitos aplicados anteriormente, utiliza-se o seguinte código para a resolução desse exemplo:"
   ]
  },
  {
   "cell_type": "code",
   "execution_count": 47,
   "metadata": {},
   "outputs": [
    {
     "name": "stdout",
     "output_type": "stream",
     "text": [
      "Campo tag: 11 bits\n",
      "Campo conjunto: 11 bits\n",
      "Campo bloco: 4 bits\n"
     ]
    }
   ],
   "source": [
    "def mapeamentoCampos(cmp, conj, cc, ll):\n",
    "    # cmp = capacidade da mp\n",
    "    # conj = valor do conjunto\n",
    "    # cc = capacidade da cache\n",
    "    # ll = largura da linha\n",
    "    tamEnd = base2Redutor(cmp, 'mb')\n",
    "    larguraBloco = base2Redutor(ll, 'b')\n",
    "    larguraConjunto = base2Redutor(conj, 'b')\n",
    "    tamEndBloco = base2Redutor(cmp / ll, 'm') # qntd de blocos reduzida para base 2\n",
    "    tamEndLinhasCache = base2Redutor(cc / ll, 'k') # qntd de linhas da cache reduzida para base 2\n",
    "    tamEndConjuntos = tamEndLinhasCache - larguraConjunto\n",
    "    tamEndBlocoConjunto = tamEndBloco - tamEndConjuntos # qntd de blocos por conjunto reduzida para base 2\n",
    "    \n",
    "    return [tamEndBloco - tamEndConjuntos, tamEndConjuntos, larguraBloco]\n",
    "\n",
    "vetor = mapeamentoCampos(64, 4, 128, 16)\n",
    "\n",
    "print(f'Campo tag: {vetor[0]} bits')\n",
    "print(f'Campo conjunto: {vetor[1]} bits')\n",
    "print(f'Campo bloco: {vetor[2]} bits')"
   ]
  },
  {
   "cell_type": "markdown",
   "metadata": {},
   "source": [
    "#### Exemplo 5.10\n",
    "Seja uma MP constituída de blocos com largura de 32 bytes, associada a urna cache com ~64KB~ (128KB corrigido); a cache usa mapeamento por conjunto de 4. Em dado instante o processador realiza um acesso, colocando o seguinte endereço (expresso em algarismos hexadecimais): 31C92B6. Determine qual deverá ser o valor binário do conjunto que será localizado pelo sistema de controle da cache. \n",
    "\n",
    "**Solução:** Por último, para o desenvolvimento desse exemplo será essencial o reaproveitamento dos blocos criados anteriormente, então:"
   ]
  },
  {
   "cell_type": "code",
   "execution_count": 59,
   "metadata": {},
   "outputs": [
    {
     "name": "stdout",
     "output_type": "stream",
     "text": [
      "Binário do conjunto: 0010010101\n"
     ]
    }
   ],
   "source": [
    "def pegarValorBinario(lb, cc, conj, h):\n",
    "    tamEnderecoBin = tamHexToBin(h)\n",
    "    tamConj = base2Redutor(conj, 'b')\n",
    "    tamCampoByte = base2Redutor(lb, 'b')\n",
    "    qntLinhas = base2Redutor(cc / lb, 'kb')\n",
    "    tamCampoConjunto = qntLinhas - tamConj\n",
    "    tamCampoTag = tamEnderecoBin - tamCampoConjunto - tamCampoByte\n",
    "    enderecoBinario= decimalBinario(int(h, 16))\n",
    "    \n",
    "    # faz a correção dos zeros faltantes\n",
    "    if len(enderecoBinario) < tamEnderecoBin:\n",
    "        while len(enderecoBinario) < tamEnderecoBin:\n",
    "            tempValor = enderecoBinario[::-1]\n",
    "            tempValor += '0'\n",
    "            enderecoBinario = tempValor[::-1]\n",
    "    \n",
    "    return enderecoBinario[tamCampoTag:(tamCampoTag + tamCampoConjunto)]\n",
    "    \n",
    "    \n",
    "print(f'Binário do conjunto: {pegarValorBinario(32, 128, 4, \"31C92B6\")}')"
   ]
  }
 ],
 "metadata": {
  "kernelspec": {
   "display_name": "Python 3",
   "language": "python",
   "name": "python3"
  }
 },
 "nbformat": 4,
 "nbformat_minor": 4
}
