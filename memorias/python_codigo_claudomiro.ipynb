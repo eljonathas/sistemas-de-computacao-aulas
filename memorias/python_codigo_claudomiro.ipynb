{
 "cells": [
  {
   "cell_type": "markdown",
   "metadata": {},
   "source": [
    "## Simulação de memória no Python\n",
    "\n",
    "### Jonathas dos Santos Andrade"
   ]
  },
  {
   "cell_type": "markdown",
   "metadata": {},
   "source": [
    "A princípio, na construção do algorítmo que simula a memória de um sistema de computação, cria-se primeiramente uma variável que será responsável por armazenar todas as células e representar a memória em si."
   ]
  },
  {
   "cell_type": "code",
   "execution_count": 2,
   "metadata": {},
   "outputs": [],
   "source": [
    "memo = []"
   ]
  },
  {
   "cell_type": "markdown",
   "metadata": {},
   "source": [
    "No vetor acima será agrupadas todas as células que serão definidas pelo usuário durante a execução do programa. Após isso, são codificadas as funções que inicializam as memórias e os bits das suas células."
   ]
  },
  {
   "cell_type": "code",
   "execution_count": 3,
   "metadata": {},
   "outputs": [],
   "source": [
    "def setInitialCellState(q):\n",
    "    # q quantidade de bits\n",
    "    cell = []\n",
    "    for i in range(0, q):\n",
    "        cell.append(0)\n",
    "    return cell"
   ]
  },
  {
   "cell_type": "markdown",
   "metadata": {},
   "source": [
    "A função __setInitialCellState__ determina um estado inicial para a célula do endereço que é definido pela função de inicialização do estado da memória. Ela basicamente cria um outro vetor com os seus valores em nível baixo."
   ]
  },
  {
   "cell_type": "code",
   "execution_count": 4,
   "metadata": {},
   "outputs": [],
   "source": [
    "def setInitialMemoState(b, c):\n",
    "    # b = bits da palavra, c = quantidade de células\n",
    "    for i in range(0, c):\n",
    "        memo.append(setInitialCellState(b))"
   ]
  },
  {
   "cell_type": "markdown",
   "metadata": {},
   "source": [
    "Por outro lado, a função __setInitialMemoState__ faz a criação da memória associando as células conforme a quantidade informada durante a execução do código. Ainda, para cada índice do vetor da memória, é definido um estado inicial para a célula relativa a ele.\n",
    "\n",
    "Em seguida, depois  da formulação das funções que iniciam os estados da memória e das células, são criadas as outras duas instruções relativas as ações de gravação e leitura de dados na memória."
   ]
  },
  {
   "cell_type": "code",
   "execution_count": 5,
   "metadata": {},
   "outputs": [],
   "source": [
    "def setCellData(d, e):\n",
    "    if memo[e]:\n",
    "        if len(d) == len(memo[e]):\n",
    "            memo[e] = d\n",
    "            return True\n",
    "    return False"
   ]
  },
  {
   "cell_type": "markdown",
   "metadata": {},
   "source": [
    "A função __setCellData__ recebe os paramêtros **d** e **e** que sinalizam o dado e endereço da célula que será modificada, respectivamente. Além disso, antes de ser informado para essa função, o endereço é primeiramente tratado com a função de conversão de binário para decimal, pois ele é dado como um valor em binário, como poderá ser notado posteriormente."
   ]
  },
  {
   "cell_type": "code",
   "execution_count": 6,
   "metadata": {},
   "outputs": [],
   "source": [
    "def showCellData(e):\n",
    "    if memo[e]:\n",
    "        return ''.join(str(i) for i in memo[e])\n",
    "    return False"
   ]
  },
  {
   "cell_type": "markdown",
   "metadata": {},
   "source": [
    "Agora, para representar a função de leitura da memória, a função __showCellData__ recebe somente o endereço binário convertido para decimal de forma a localizar a célula com a palavra requerida para depois retorná-la reescrita como texto. \n",
    "\n",
    "Em adição, o próximo bloco de instruções a ser demonstrado refere-se ao conversor de binário para decimal que realiza a conversão com base no modelo matemático para a obtenção de valores em decimal com sua representação em binário."
   ]
  },
  {
   "cell_type": "code",
   "execution_count": 7,
   "metadata": {},
   "outputs": [],
   "source": [
    "def binToDec(b):\n",
    "    # faz a conversão do endereço binário para decimal\n",
    "    result = 0\n",
    "    stringToList = list(b)\n",
    "\n",
    "    for i in range(len(stringToList)):\n",
    "        currentValue = int(stringToList[i])\n",
    "        if(currentValue != 1 and currentValue != 0):\n",
    "            return \"Por favor, o valor deve estar em binário! Tente novamente.\"\n",
    "        else:\n",
    "            result += currentValue * \\\n",
    "                2 ** (len(stringToList) - i - 1)\n",
    "\n",
    "    return result"
   ]
  },
  {
   "cell_type": "markdown",
   "metadata": {},
   "source": [
    "Com essa função os endereços informados em binário utilizados para localizar as células são convertidos para decimal, de modo que sejam passados como índice da lista **memo**."
   ]
  },
  {
   "cell_type": "code",
   "execution_count": 8,
   "metadata": {},
   "outputs": [],
   "source": [
    "def addresSize():\n",
    "    for i in range(0, len(memo)):\n",
    "        if 2 ** i > len(memo):\n",
    "            return i"
   ]
  },
  {
   "cell_type": "markdown",
   "metadata": {},
   "source": [
    "Não obstante, para que seja denotado o tamanho da palavra que representa os endereços existentes para a memória definida pelo usuário, foi necessário a criação da função **addresSize** que efetua o cálculo exponencial para a obtenção do valor compatível com a quantidade de células da memória.\n",
    "\n",
    "Por conseguinte, foi desenvolvido também a função que exibe a memória completa com todas as células e seus valores, denominada de **showMemo**"
   ]
  },
  {
   "cell_type": "code",
   "execution_count": 9,
   "metadata": {},
   "outputs": [],
   "source": [
    "def showMemo():\n",
    "    # retorna o estado total da memória\n",
    "    for i in range(0, len(memo)):\n",
    "        print(''.join(str(e) for e in memo[i]))\n",
    "    print()"
   ]
  },
  {
   "cell_type": "markdown",
   "metadata": {},
   "source": [
    "E finalmente, a função que inicia os estados da memória com as definições de tamanho e quantidade de células."
   ]
  },
  {
   "cell_type": "code",
   "execution_count": 10,
   "metadata": {},
   "outputs": [],
   "source": [
    "def initMemo():\n",
    "    cellBits = int(input('Informe a quantidade de bits da célula: '))\n",
    "    cells = int(input('Informe a quantidade de células: '))\n",
    "    setInitialMemoState(cellBits, cells)\n",
    "    showMemo()"
   ]
  },
  {
   "cell_type": "markdown",
   "metadata": {},
   "source": [
    "O último trecho de código refere-se a chamada da função **initMemo** e a interface do programa criada com as ações disponíveis para ele."
   ]
  },
  {
   "cell_type": "code",
   "execution_count": null,
   "metadata": {},
   "outputs": [],
   "source": [
    "initMemo()\n",
    "\n",
    "while True:\n",
    "    print(\"Informe a opção desejada:\")\n",
    "    print(\"1 - Gravação de dados\")\n",
    "    print(\"2 - Leitura de dados\")\n",
    "    print(\"3 - Visualizar memória\")\n",
    "    print(\"4 - Sair\")\n",
    "    option = int(input(\"\"))\n",
    "\n",
    "    if option == 1:\n",
    "        address = binToDec(\n",
    "            input(f'Informe o endereço de {addresSize()} bits: '))\n",
    "        value = list(\n",
    "            input(f'Informe o valor de {len(memo[0])} bits em binário: '))\n",
    "        if setCellData(value, address):\n",
    "            showMemo()\n",
    "        else:\n",
    "            print(\"Um erro ocorreu na gravação dos dados\")\n",
    "    elif option == 2:\n",
    "        address = binToDec(\n",
    "            (input(f'Informe o endereço de {addresSize()} bits: ')))\n",
    "        print(showCellData(address))\n",
    "    elif option == 4:\n",
    "        exit()\n",
    "    else:\n",
    "        print(\"Opção inválida\")\n",
    "    print()"
   ]
  },
  {
   "cell_type": "markdown",
   "metadata": {},
   "source": [
    "São disponibilizadas 4 opções de instruções relativas a leitura e gravação de dados, exibição da memória e fechamento do programa. \n",
    "\n",
    "A primeira opção refere-se a gravação de dados e solicita a informação do endereço da célula que será alterada e o valor que será escrito nela. O tamanho do endereço deve ser relativo as células existentes na memória e também é informado no _input_. Em contrapartida, a segunda opção refere-se a leitura da informação e requere apenas o endereço da célula que será retornado para o cliente. Ainda, a terceira opção retorna todo o estado atual das células da memória. Por fim, a última opção efetua o encerramento do código."
   ]
  }
 ],
 "metadata": {
  "kernelspec": {
   "display_name": "Python 3",
   "language": "python",
   "name": "python3"
  },
  "language_info": {
   "codemirror_mode": {
    "name": "ipython",
    "version": 3
   },
   "file_extension": ".py",
   "mimetype": "text/x-python",
   "name": "python",
   "nbconvert_exporter": "python",
   "pygments_lexer": "ipython3",
   "version": "3.8.5"
  }
 },
 "nbformat": 4,
 "nbformat_minor": 4
}
